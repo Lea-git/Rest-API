{
 "cells": [
  {
   "cell_type": "markdown",
   "id": "7b7592ab",
   "metadata": {},
   "source": [
    "Étant donné une chaîne scomposée de mots et d’espaces, renvoie la longueur du dernier mot de la chaîne.\n",
    "\n",
    "Un mot est une sous-chaîne composé uniquement de caractères autres que des espaces.\n",
    "\n",
    "\n",
    "\n",
    "Exemple 1:\n",
    "\n",
    "Entrée : s = \"Hello World\"\n",
    "Sortie : 5\n",
    "Explication : Le dernier mot est \"World\" avec une longueur de 5.\n",
    "\n",
    "\n",
    "Exemple 2 :\n",
    "\n",
    "Entrée : s = \" Envole-moi vers la lune \"\n",
    "Sortie : 4\n",
    "Explication : Le dernier mot est \" lune \" avec une longueur de 4.\n",
    "\n",
    "\n",
    "Exemple 3 :\n",
    "\n",
    "Entrée : s = « Luffy est toujours Joyboy »\n",
    "Sortie : 6\n",
    "Explication : Le dernier mot est « Joyboy » avec une longueur de 6."
   ]
  },
  {
   "cell_type": "code",
   "execution_count": 1,
   "id": "fe5ce351",
   "metadata": {},
   "outputs": [
    {
     "data": {
      "text/plain": [
       "5"
      ]
     },
     "execution_count": 1,
     "metadata": {},
     "output_type": "execute_result"
    }
   ],
   "source": [
    "def longueur_dernier_mot(phrase):\n",
    "    # On supprime les espaces de début et de fin\n",
    "    phrase = phrase.strip()\n",
    "    # On divise la chaîne en mots\n",
    "    mots = phrase.split()\n",
    "    # On renvoie la longueur du dernier mot\n",
    "    return len(mots[-1]) if mots else 0\n",
    "\n",
    "longueur_dernier_mot(\"Hello World\")  # Devrait retourner 5"
   ]
  },
  {
   "cell_type": "markdown",
   "id": "5ef74ffd",
   "metadata": {},
   "source": [
    "Étant donné une chaîne s, renvoie la plus longue sous-chaîne palindromique dans s\n",
    "\n",
    "\n",
    "class Solution {\n",
    "public:\n",
    "    string longestPalindrome(string s) {\n",
    "        \n",
    "    }\n",
    "};\n",
    "\n",
    "\n",
    "Exemple 1:\n",
    "\n",
    "Entrée : s = \"babad\"\n",
    "Sortie : \"bab\"\n",
    "Explication : \"aba\" est également une réponse valide.\n",
    "\n",
    "\n",
    "Exemple 2 :\n",
    "\n",
    "Entrée : s = \"cbbd\"\n",
    "Sortie : \"bb\""
   ]
  },
  {
   "cell_type": "code",
   "execution_count": null,
   "id": "bd322dca",
   "metadata": {},
   "outputs": [
    {
     "data": {
      "text/plain": [
       "'bab'"
      ]
     },
     "execution_count": 4,
     "metadata": {},
     "output_type": "execute_result"
    }
   ],
   "source": [
    "def sous_chaine_palindromique(s):\n",
    "    # Longueur de la chaîne\n",
    "    n = len(s)\n",
    "    # Table de programmation dynamique\n",
    "    dp = [[False] * n for _ in range(n)]\n",
    "    start, max_length = 0, 1\n",
    "    \n",
    "    for i in range(n):\n",
    "        dp[i][i] = True\n",
    "        \n",
    "    # Vérification des sous-chaînes de longueur 2 à n\n",
    "\n",
    "    for length in range(2, n + 1):\n",
    "        for i in range(n - length + 1):\n",
    "            j = i + length - 1\n",
    "            if s[i] == s[j]:\n",
    "                if length == 2 or dp[i + 1][j - 1]:\n",
    "                    dp[i][j] = True\n",
    "                    if length > max_length:\n",
    "                        start = i\n",
    "                        max_length = length\n",
    "\n",
    "    return s[start:start + max_length]\n",
    "\n",
    "sous_chaine_palindromique(\"babad\")  "
   ]
  },
  {
   "cell_type": "markdown",
   "id": "580b7441",
   "metadata": {},
   "source": [
    "On vous donne une chaîne s. Le score d'une chaîne est défini comme la somme de la différence absolue entre les valeurs ASCII des caractères adjacents.\n",
    "\n",
    "Renvoie le score de . s\n",
    "\n",
    "class Solution {\n",
    "public:\n",
    "    int scoreOfString(string s) {\n",
    "        \n",
    "    }\n",
    "};\n",
    "\n",
    "\n",
    "\n",
    "Exemple 1:\n",
    "\n",
    "Entrée : s = \"hello\"\n",
    "\n",
    "Sortie :  13\n",
    "\n",
    "Explication:\n",
    "\n",
    "Les valeurs ASCII des caractères ssont : 'h' = 104, 'e' = 101, 'l' = 108, 'o' = 111. Le score de sserait donc |104 - 101| + |101 - 108| + |108 - 108| + |108 - 111| = 3 + 7 + 0 + 3 = 13.\n",
    "\n",
    "\n",
    "Exemple 2 :\n",
    "\n",
    "Entrée : s = \"zaz\"\n",
    "\n",
    "Sortie : 50\n",
    "\n",
    "Explication:\n",
    "\n",
    "Les valeurs ASCII des caractères ssont : 'z' = 122, 'a' = 97. Le score de sserait donc |122 - 97| + |97 - 122| = 25 + 25 = 50."
   ]
  },
  {
   "cell_type": "code",
   "execution_count": null,
   "id": "04f9608a",
   "metadata": {},
   "outputs": [
    {
     "name": "stdout",
     "output_type": "stream",
     "text": [
      "25\n",
      "zaz\n",
      "50\n",
      "za\n",
      "50\n"
     ]
    }
   ],
   "source": [
    "def difference_absolue_ascii (chaine, nb):\n",
    "    # Condition de fin\n",
    "    if len(chaine) < 2:\n",
    "        return nb\n",
    "    # Calcul de la différence absolue entre les deux derniers caractères\n",
    "    nb += abs(ord(chaine[-2]) - ord(chaine[-1]))\n",
    "    print(nb)\n",
    "    print(chaine)\n",
    "    # Fonction récursive en enlevant le dernier caractère\n",
    "    return difference_absolue_ascii(chaine[:-1],nb)\n",
    "\n",
    "\n",
    "print(difference_absolue_ascii(\"zaz\",0) ) "
   ]
  },
  {
   "cell_type": "markdown",
   "id": "510da012",
   "metadata": {},
   "source": [
    "Les chiffres romains sont représentés par sept symboles différents :  I, V, X, L, C, Det M.\n",
    "\n",
    "Symbol       Value\n",
    "I             1\n",
    "V             5\n",
    "X             10\n",
    "L             50\n",
    "C             100\n",
    "D             500\n",
    "M             1000\n",
    "\n",
    "Par exemple,  2s'écrit comme II en chiffres romains, seulement deux uns additionnés. 12 s'écrit  XII, ce qui est simplement X + II.\n",
    "Le nombre 27 s'écrit XXVII, ce qui est XX + V + II.\n",
    "\n",
    "\n",
    "Les chiffres romains sont généralement écrits du plus grand au plus petit, de gauche à droite. \n",
    "Cependant, le chiffre quatre n’est pas IIII. Au lieu de cela, le chiffre quatre s’écrit IV. \n",
    "Parce que le un est avant les cinq, nous le soustrayons, ce qui fait quatre. \n",
    "Le même principe s’applique au nombre neuf, qui s’écrit IX. \n",
    "\n",
    "Il existe six cas où la soustraction est utilisée :\n",
    "\n",
    "I peut être placé avant V(5) et X(10) pour faire 4 et 9. \n",
    "X peut être placé avant L(50) et C(100) pour faire 40 et 90. \n",
    "C peut être placé avant D(500) et M(1000) pour faire 400 et 900.\n",
    "\n",
    "\n",
    "\n",
    "Étant donné un chiffre romain, convertissez-le en nombre entier\n",
    "\n",
    "Exemple 1:\n",
    "\n",
    "Entrée : s = \"III\"\n",
    "Sortie : 3\n",
    "Explication : III = 3.\n",
    "\n",
    "\n",
    "Exemple 2 :\n",
    "\n",
    "Entrée : s = \"LVIII\"\n",
    "Sortie : 58\n",
    "Explication : L = 50, V= 5, III = 3.\n",
    "\n",
    "\n",
    "Exemple 3 :\n",
    "\n",
    "Entrée : s = « MCMXCIV »\n",
    "Sortie : 1994\n",
    "Explication : M = 1000, CM = 900, XC = 90 et IV = 4."
   ]
  },
  {
   "cell_type": "code",
   "execution_count": null,
   "id": "8863defe",
   "metadata": {},
   "outputs": [
    {
     "data": {
      "text/plain": [
       "1994"
      ]
     },
     "execution_count": 34,
     "metadata": {},
     "output_type": "execute_result"
    }
   ],
   "source": [
    "def convertir_romain_en_chiffre(romain):\n",
    "    # tableau des valeurs des chiffres romains\n",
    "    valeurs = {'I': 1, 'V': 5, 'X': 10, 'L': 50, 'C': 100, 'D': 500, 'M': 1000}\n",
    "    total = 0\n",
    "    prev_value = 0\n",
    "    \n",
    "    # Parcours de la chaîne romaine de droite à gauche\n",
    "    for char in reversed(romain):\n",
    "        value = valeurs[char]\n",
    "        # cas de soustraction\n",
    "        if value < prev_value:\n",
    "            total -= value\n",
    "        # cas d'addition\n",
    "        else:\n",
    "            total += value\n",
    "        prev_value = value\n",
    "    \n",
    "    return total\n",
    "\n",
    "convertir_romain_en_chiffre(\"MCMXCIV\")  # Devrait retourner 1994"
   ]
  },
  {
   "cell_type": "markdown",
   "id": "507c25b5",
   "metadata": {},
   "source": [
    "Vous recevez un grand entier représenté sous la forme d'un tableau d'entiers digits, où chacun digits[i]est le chiffre de l'entier. Les chiffres sont classés du plus significatif au moins significatif, de gauche à droite. Le grand entier ne contient aucun signe non significatif\n",
    "\n",
    "Incrémentez le grand entier de un et renvoyez le tableau de chiffres résultant .\n",
    "\n",
    "\n",
    "Exemple 1:\n",
    "\n",
    "Entrée : chiffres = [1,2,3]\n",
    "Sortie : [1,2,4]\n",
    "Explication : Le tableau représente l'entier 123.\n",
    "Incrémenter de un donne 123 + 1 = 124.\n",
    "Ainsi, le résultat devrait être [1,2,4].\n",
    "\n",
    "\n",
    "Exemple 2 :\n",
    "\n",
    "Entrée : chiffres = [4,3,2,1]\n",
    "Sortie : [4,3,2,2]\n",
    "Explication : Le tableau représente l'entier 4321.\n",
    "Incrémenter de un donne 4321 + 1 = 4322.\n",
    "Ainsi, le résultat devrait être [4,3,2,2].\n",
    "\n",
    "\n",
    "Exemple 3 :\n",
    "\n",
    "Entrée : chiffres = [9]\n",
    "Sortie : [1,0]\n",
    "Explication : Le tableau représente l'entier 9.\n",
    "Incrémenter de un donne 9 + 1 = 10.\n",
    "Ainsi, le résultat devrait être [1,0]."
   ]
  },
  {
   "cell_type": "code",
   "execution_count": null,
   "id": "ff77750e",
   "metadata": {},
   "outputs": [
    {
     "data": {
      "text/plain": [
       "['9', '9', '6']"
      ]
     },
     "execution_count": 37,
     "metadata": {},
     "output_type": "execute_result"
    }
   ],
   "source": [
    "def incrementer_chiffre(chiffres):\n",
    "    n = len(chiffres)\n",
    "    \n",
    "    # Parcourir la liste de droite à gauche\n",
    "    for i in range(n - 1, -1, -1):\n",
    "        if chiffres[i] == '9':\n",
    "            chiffres[i] = '0' \n",
    "        else:\n",
    "            chiffres[i] = str(int(chiffres[i]) + 1)  # Incrémenter le chiffre\n",
    "            return (chiffres)  # Retourner la nouvelle chaîne\n",
    "    \n",
    "    # Si tous les chiffres étaient des 9, ajouter un '1' au début\n",
    "    return '1' + (chiffres)\n",
    "\n",
    "incrementer_chiffre(['9', '9', '5']) "
   ]
  },
  {
   "cell_type": "markdown",
   "id": "a6d762cc",
   "metadata": {},
   "source": []
  }
 ],
 "metadata": {
  "kernelspec": {
   "display_name": "Python 3",
   "language": "python",
   "name": "python3"
  },
  "language_info": {
   "codemirror_mode": {
    "name": "ipython",
    "version": 3
   },
   "file_extension": ".py",
   "mimetype": "text/x-python",
   "name": "python",
   "nbconvert_exporter": "python",
   "pygments_lexer": "ipython3",
   "version": "3.11.9"
  }
 },
 "nbformat": 4,
 "nbformat_minor": 5
}
